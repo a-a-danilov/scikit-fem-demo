{
 "cells": [
  {
   "cell_type": "markdown",
   "id": "3df55fca-7a96-4e94-9064-62ffc98a6e15",
   "metadata": {},
   "source": [
    "# Работа с расчётными сетками в МКЭ-библиотеке `scikit-fem`\n",
    "\n",
    "## Библиотека `scikit-fem`\n",
    "Библиотека [`scikit-fem`](https://github.com/kinnala/scikit-fem) – python-библиотека для метода конечных элементов (МКЭ). Она позволяет собирать разреженные матрицы из билинейных форм, а также вектора из линейных форм. Поддерживаются неструктурированные треугольные, четырёхугольные, тетраэдральные и гексаэдральные сетки.\n",
    "\n",
    "Для установки библиотеки можно использовать следующую команду:\n",
    "```\n",
    "pip install scikit-fem[all]\n",
    "```\n",
    "Параметр `[all]` указывает, что нужно установить вспомогательные библиотеки `meshio` и `matplotlib`.\n",
    "\n",
    "Основной модуль библиотеки – `skfem`, для краткости будем загружать его под псевдонимом `fem`. Также для удобства нам потребуется `numpy` с псевдонимом `np`."
   ]
  },
  {
   "cell_type": "code",
   "execution_count": null,
   "id": "dd148c96-4bcf-4657-b25e-ac4aa497a7f7",
   "metadata": {},
   "outputs": [],
   "source": [
    "import numpy as np\n",
    "import skfem as fem"
   ]
  },
  {
   "cell_type": "markdown",
   "id": "a2fa565b-32d8-4ccc-b16a-1834523f87a3",
   "metadata": {},
   "source": [
    "## Расчётные сетки в `scikit-fem`\n",
    "В библиотеке `scikit-fem` используется свой собственный класс для работы с сеткой.\n",
    "\n",
    "Создадим самую простую треугольную сетку для квадратной области:"
   ]
  },
  {
   "cell_type": "code",
   "execution_count": null,
   "id": "ce956454-dcbe-4471-b160-c91a7113bd53",
   "metadata": {},
   "outputs": [],
   "source": [
    "mesh = fem.MeshTri()"
   ]
  },
  {
   "cell_type": "markdown",
   "id": "0487b800-1be2-4383-9442-c6841612d6cd",
   "metadata": {},
   "source": [
    "Можно вывести общую информацию о сетке на экран с помощью команды `print(mesh)`, а отобразить сетку можно с помощью метода `mesh.draw()`:"
   ]
  },
  {
   "cell_type": "code",
   "execution_count": null,
   "id": "0cdf05d2-dda2-4964-8789-d1253413a3d9",
   "metadata": {},
   "outputs": [],
   "source": [
    "print(mesh)\n",
    "mesh.draw()"
   ]
  },
  {
   "cell_type": "markdown",
   "id": "373c1b0d-7d8c-4ae1-b2f2-d56144838d52",
   "metadata": {},
   "source": [
    "В этой сетке всего два элемента (треугольника) и 4 вершины.\n",
    "\n",
    "Мы можем увидеть список координат вершин в аттрибуте `p` и список топологических связей для элементов сетки в аттрибуте `t`.\n",
    "\n",
    "В списке координат первая строка – x-координаты вершин, а вторая – y-координаты:"
   ]
  },
  {
   "cell_type": "code",
   "execution_count": null,
   "id": "4ddd858f-9be1-4b8a-b7e8-f72029dcfe05",
   "metadata": {},
   "outputs": [],
   "source": [
    "mesh.p"
   ]
  },
  {
   "cell_type": "markdown",
   "id": "76f85403-672e-410d-b51c-67aa537f98e0",
   "metadata": {},
   "source": [
    "В списке топологических связей каждый столбец перечисляет номера вершин, которые образуют очередной элемент:"
   ]
  },
  {
   "cell_type": "code",
   "execution_count": null,
   "id": "34d715e1-7b06-4566-867c-153be16f337c",
   "metadata": {},
   "outputs": [],
   "source": [
    "mesh.t"
   ]
  },
  {
   "cell_type": "markdown",
   "id": "6bb7f99a-af78-4437-88c8-23e8ab4e1ccf",
   "metadata": {},
   "source": [
    "Попробуйте разные типы сеток: `MeshTri`, `MeshQuad`, `MeshTet`, `MeshHex`. Также можно использовать сетки с ячейками второго порядка:  `MeshTri2`, `MeshQuad2`, `MeshTet2`, `MeshHex2`"
   ]
  },
  {
   "cell_type": "code",
   "execution_count": null,
   "id": "69b2486e-cb27-4d9c-87de-04fa9d3dd615",
   "metadata": {},
   "outputs": [],
   "source": [
    "m = fem.MeshTri()\n",
    "print(m)\n",
    "print(\"Nodes:\")\n",
    "print(m.p)\n",
    "print(\"Elements:\")\n",
    "print(m.t)\n",
    "m.draw()"
   ]
  },
  {
   "cell_type": "markdown",
   "id": "e103cd83-047e-48fc-b79b-ca95bec38518",
   "metadata": {},
   "source": [
    "### Треугольные сетки\n",
    "По умолчанию `MeshTri` создаёт сетку из двух треугольников. Для удобства есть несколько вспомогательных функций для создания чуть более сложных сеток.\n",
    "\n",
    "`MeshTri.init_symmetric()` создаст симметричную сетку:"
   ]
  },
  {
   "cell_type": "code",
   "execution_count": null,
   "id": "0ccb11d5-7caf-4dea-abf3-268241370d1c",
   "metadata": {},
   "outputs": [],
   "source": [
    "fem.MeshTri.init_symmetric().draw()"
   ]
  },
  {
   "cell_type": "markdown",
   "id": "98768575-8811-4c9b-ab8f-5cff7e807834",
   "metadata": {},
   "source": [
    "`MeshTri.init_sqsymmetric()` создаст сетку \"Union Jack\":"
   ]
  },
  {
   "cell_type": "code",
   "execution_count": null,
   "id": "15030258-9f36-4d83-9e0e-ece1a8caceb3",
   "metadata": {},
   "outputs": [],
   "source": [
    "fem.MeshTri.init_sqsymmetric().draw()"
   ]
  },
  {
   "cell_type": "markdown",
   "id": "99f0b4d2-3e51-4ee4-9ce2-5aebdd70f505",
   "metadata": {},
   "source": [
    "`MeshTri.init_lshaped()` создаст сетку для буквы \"L\":"
   ]
  },
  {
   "cell_type": "code",
   "execution_count": null,
   "id": "0d7a76cc-c2ff-45bc-9695-aac46a384dce",
   "metadata": {},
   "outputs": [],
   "source": [
    "fem.MeshTri.init_lshaped().draw()"
   ]
  },
  {
   "cell_type": "markdown",
   "id": "ecfe5f12-f1de-47f8-9253-054a1b2a59ae",
   "metadata": {},
   "source": [
    "`MeshTri.init_circle(n)` создаст сетку для круга с уровнем измельчения `n`:"
   ]
  },
  {
   "cell_type": "code",
   "execution_count": null,
   "id": "7b3b63e5-c797-4841-b5b7-6310bc90b669",
   "metadata": {},
   "outputs": [],
   "source": [
    "fem.MeshTri.init_circle(2).draw()"
   ]
  },
  {
   "cell_type": "markdown",
   "id": "08e13d93-55fe-413c-b635-bcf8ba66fe0c",
   "metadata": {},
   "source": [
    "`MeshTri.init_tensor(x, y)` создаст структурированную сетку с координатами `x` и `y`:"
   ]
  },
  {
   "cell_type": "code",
   "execution_count": null,
   "id": "ced47d57-b7c3-4cc6-85f1-1f8d5223ee3b",
   "metadata": {},
   "outputs": [],
   "source": [
    "fem.MeshTri.init_tensor(np.linspace(0, 1, 10), np.linspace(0, 1, 5)).draw()"
   ]
  },
  {
   "cell_type": "markdown",
   "id": "1a5cbaca-b73e-490e-9027-516d85a781f0",
   "metadata": {},
   "source": [
    "Также сетку можно создать из списка с координатами вершин и списка топологический связей:"
   ]
  },
  {
   "cell_type": "code",
   "execution_count": null,
   "id": "05225b1b-60e7-4d11-af4a-c05abbdb181d",
   "metadata": {},
   "outputs": [],
   "source": [
    "m = fem.MeshTri([[1,-1,0, 0],\n",
    "                 [0, 0,1,-1]],\n",
    "                [[0, 0],\n",
    "                 [1, 1],\n",
    "                 [2, 3]])\n",
    "m.draw(node_numbering=True, element_numbering=True)"
   ]
  },
  {
   "cell_type": "markdown",
   "id": "74c09587-0a88-4206-913a-c2df0ea9a05c",
   "metadata": {},
   "source": [
    "Сетки можно сохранять и загружать с помощью методов `save` и `load`."
   ]
  },
  {
   "cell_type": "code",
   "execution_count": null,
   "id": "d8ec580d-8062-4885-a898-3f7a6158904e",
   "metadata": {},
   "outputs": [],
   "source": [
    "mesh = fem.MeshTri.load(\"unstructured.msh\")\n",
    "mesh.draw()"
   ]
  },
  {
   "cell_type": "markdown",
   "id": "09a16b4b-eb18-4f6e-8fbf-6970a78a5718",
   "metadata": {},
   "source": [
    "## Преобразование сеток\n",
    "У сеточных классов есть вспомогательные методы, которые применяют к сетке некоторую операцию и возвращают новую сетку в качестве результата.\n",
    "\n",
    "Например, метод `refined(n)` возвращает измельчённую на `n` уровней сетку. Каждый уровень измельчения уменьшает размеры элементов в два раза. Измельчение на `n` уровней уменьшает размеры в $2^n$ раз."
   ]
  },
  {
   "cell_type": "code",
   "execution_count": null,
   "id": "f0be4fc3-d47b-486d-994b-f209a3206587",
   "metadata": {},
   "outputs": [],
   "source": [
    "mesh = fem.MeshTri()\n",
    "refined = mesh.refined(3)\n",
    "refined.draw()"
   ]
  },
  {
   "cell_type": "markdown",
   "id": "76bbfe8a-37fe-41c8-933c-ac09d8e80a25",
   "metadata": {},
   "source": [
    "Метод `scaled(s)` умножает координаты на множитель `s`. Множитель `s` можно указать отдельно для каждой координаты."
   ]
  },
  {
   "cell_type": "code",
   "execution_count": null,
   "id": "d5fec6d2-d19b-4017-be83-bb056dde5e7d",
   "metadata": {},
   "outputs": [],
   "source": [
    "fem.MeshTri().scaled([2, 1]).draw()"
   ]
  },
  {
   "cell_type": "markdown",
   "id": "069a84f8-13da-4bd3-ba26-4697ef2d69b5",
   "metadata": {},
   "source": [
    "Метод `translated(u)` сдвигает координаты на смещение `u`."
   ]
  },
  {
   "cell_type": "code",
   "execution_count": null,
   "id": "f110af01-f19a-4b6f-aa96-2c6925fe91ab",
   "metadata": {},
   "outputs": [],
   "source": [
    "m1 = fem.MeshTri()                    # сетка в единичном квадрате\n",
    "m2 = fem.MeshTri().translated([1, 0]) # сетка сдвинута вправо на 1\n",
    "mesh = m1 + m2 # Сетки можно объединять с помощью оператора \"+\"\n",
    "mesh.draw()"
   ]
  },
  {
   "cell_type": "markdown",
   "id": "67057919-0f62-465e-88f2-58d9b74060b0",
   "metadata": {},
   "source": [
    "Метод `morphed(xfunc, yfunc)` применяет отображение координат с помощью функций `xfunc(p)` и `yfunc(p)`. В функцию передаются координаты точек `p`."
   ]
  },
  {
   "cell_type": "code",
   "execution_count": null,
   "id": "3feefd63-4aad-40d2-8cda-877429548064",
   "metadata": {},
   "outputs": [],
   "source": [
    "square_mesh = fem.MeshTri().refined(3)\n",
    "radial_mesh = square_mesh.morphed(lambda p: (1+p[0])*np.cos(p[1]*np.pi/2),\n",
    "                                  lambda p: (1+p[0])*np.sin(p[1]*np.pi/2))\n",
    "radial_mesh.draw()"
   ]
  },
  {
   "cell_type": "markdown",
   "id": "8e8b6e26-2014-4014-849a-8708e6382065",
   "metadata": {},
   "source": [
    "Метод `mirrored(normal, center)` применяет отражение относительно прямой с нормалью `normal` и центром в `center`. По умолчанию `center` в начале координат."
   ]
  },
  {
   "cell_type": "code",
   "execution_count": null,
   "id": "31313854-9502-41fe-9c91-f7136cd6ce04",
   "metadata": {},
   "outputs": [],
   "source": [
    "fem.MeshTri.init_lshaped().mirrored([1,0]).draw()"
   ]
  },
  {
   "cell_type": "markdown",
   "id": "27665212-d4c6-4abe-a21c-c0939e6d774a",
   "metadata": {},
   "source": [
    "Метод `smoothed` применяет сглаживание к внутренним вершинам сетки."
   ]
  },
  {
   "cell_type": "code",
   "execution_count": null,
   "id": "fa1141af-27c4-49ba-9166-2e1a5e3c5133",
   "metadata": {},
   "outputs": [],
   "source": [
    "fem.MeshTri.init_lshaped().refined(2).smoothed().draw()"
   ]
  },
  {
   "cell_type": "markdown",
   "id": "c5ec4876-7b1e-46b6-8ad5-66a26d2df84d",
   "metadata": {},
   "source": [
    "## Локальное и иерархическое измельчение сетки\n",
    "У метода `refined` для треугольных (и тетраэдральных) сеток есть возможность явно указать список элементов, которые нужно измельчить. В этом случае происходит измельчение выбранных элементов и возможно их соседей для сохранения конформности. "
   ]
  },
  {
   "cell_type": "code",
   "execution_count": null,
   "id": "8b2ab163-9f82-4671-88c1-68a3801f770d",
   "metadata": {},
   "outputs": [],
   "source": [
    "mesh = fem.MeshTri().refined(1)\n",
    "mesh.draw(element_numbering=True)\n",
    "refined_mesh = mesh.refined([1,2])\n",
    "refined_mesh.draw(element_numbering=True)"
   ]
  },
  {
   "cell_type": "markdown",
   "id": "568dfdd4-95a8-4d70-90b6-07ea1e273187",
   "metadata": {},
   "source": [
    "Можно воспользоваться вспомогательным методом `elements_satisfying(test_func)`, где функция `test_func(p)` возвращает `True` для центров `p` нужных элементов."
   ]
  },
  {
   "cell_type": "code",
   "execution_count": null,
   "id": "4092f4b1-c071-4551-989a-2c7e127c941e",
   "metadata": {},
   "outputs": [],
   "source": [
    "def in_lower_right(p):\n",
    "    # Здесь p -- массив 2xN с координатами центров N элементов\n",
    "    return (p[0] > 0.5) * (p[1] < 0.5)  # аналог x > 0.5 и y < 0.5\n",
    "\n",
    "mesh = fem.MeshTri().refined(2)\n",
    "mesh.draw(element_numbering=True)\n",
    "elements = mesh.elements_satisfying(in_lower_right)\n",
    "print(elements)"
   ]
  },
  {
   "cell_type": "markdown",
   "id": "7bae1de9-5f7f-4025-aae8-60f64229e24b",
   "metadata": {},
   "source": [
    "Можно организовать иерархическое измельчение, применяя метод `refined` несколько раз подряд с выбором новых элементов на каждом уровне."
   ]
  },
  {
   "cell_type": "code",
   "execution_count": null,
   "id": "c027ed21-7f4a-4170-98c6-b9e0dd5c7910",
   "metadata": {},
   "outputs": [],
   "source": [
    "mesh = fem.MeshTri().refined(1)\n",
    "for k in range(3): # три уровня измельчения\n",
    "    elements = mesh.elements_satisfying(in_lower_right) # выбираем элементы в нижней правой четверти\n",
    "    mesh = mesh.refined(elements) # локально измельчаем выбранные элементы\n",
    "\n",
    "mesh.draw()"
   ]
  },
  {
   "cell_type": "markdown",
   "id": "27f9ab1e-9154-41c0-a167-b96f6616c691",
   "metadata": {},
   "source": [
    "Использование метода `elements_satisfying` допустимо, когда выбор элементов возможен по координатам центров треугольников. На практике проверки только центра элемента может быть недостаточно.\n",
    "\n",
    "Пусть мы теперь хотим сгустить сетку к прямой y=0.5. Воспользуемся наивным подходом:"
   ]
  },
  {
   "cell_type": "code",
   "execution_count": null,
   "id": "c3d1dbd1-cf92-4b4b-903a-be67858ee673",
   "metadata": {},
   "outputs": [],
   "source": [
    "def on_horizontal_line(p):\n",
    "    # Здесь p -- массив 2xN с координатами центров N элементов\n",
    "    return p[1] == 0.5  # y == 0.5\n",
    "\n",
    "mesh = fem.MeshTri().refined(1)\n",
    "for k in range(3): # три уровня измельчения\n",
    "    elements = mesh.elements_satisfying(on_horizontal_line) # выбираем элементы в нижней правой четверти\n",
    "    mesh = mesh.refined(elements) # локально измельчаем выбранные элементы\n",
    "\n",
    "mesh.draw()"
   ]
  },
  {
   "cell_type": "markdown",
   "id": "db6929c3-e9ba-447a-a040-daaff6f530a2",
   "metadata": {},
   "source": [
    "Ни один из треугольников не был разбит, так как центры треугольников в данном случае всегда либо выше, либо ниже центральной линии.\n",
    "\n",
    "Вместо центров треугольников мы можем проверять вершины треугольников. Воспользуемся аттрибутами `p` и `t` с координатами вершин и номерами вершин в треугольниках."
   ]
  },
  {
   "cell_type": "code",
   "execution_count": null,
   "id": "38aae914-b35d-417c-8b9b-8f6fc18b8f5e",
   "metadata": {},
   "outputs": [],
   "source": [
    "mesh = fem.MeshTri().refined(1)\n",
    "for k in range(5): # пять уровней измельчения\n",
    "    elements = [] # начнём с пустого списка элементов для измельчения\n",
    "\n",
    "    for i in range(mesh.nelements): # mesh.nelements – количество элементов\n",
    "        node_indices = mesh.t[:, i]  # Номера трех вершин треугольника с номером i (массив из 3 чисел)\n",
    "        triangle_nodes = mesh.p[:, node_indices] # массив координат из трёх вершин (массив 2x3)\n",
    "        triangle_nodes_y = triangle_nodes[1, :]  # y-координаты трёх вершин (массив из 3 чисел)\n",
    "        if (np.any(triangle_nodes_y == 0.5)):    # если хотя бы одна из y-координат равна 0.5\n",
    "            elements.append(i)\n",
    "\n",
    "    mesh = mesh.refined(elements)\n",
    "\n",
    "mesh.draw()"
   ]
  },
  {
   "cell_type": "markdown",
   "id": "7fbf7968-3641-477e-ac58-3343dc968ea9",
   "metadata": {},
   "source": [
    "Знатоки Python могут переписать это в более компактном виде:"
   ]
  },
  {
   "cell_type": "code",
   "execution_count": null,
   "id": "8c46fc7a-627f-43cc-acb4-246ee109ce6a",
   "metadata": {},
   "outputs": [],
   "source": [
    "mesh = fem.MeshTri().refined(1)\n",
    "for k in range(5): # пять уровней измельчения\n",
    "    elements = np.any(mesh.p[1, mesh.t] == 0.5, axis=0)\n",
    "    mesh = mesh.refined(elements)\n",
    "\n",
    "mesh.draw()"
   ]
  },
  {
   "cell_type": "markdown",
   "id": "e69205b3-1456-4f49-96f1-6e6d41d586c0",
   "metadata": {},
   "source": [
    "Приведённый выше метод с проверкой вершин на центральной линии работает, так как изначально в нашей сетке уже есть вершины на прямой y=0.5. Однако этот метод не сработает для прямой y=0.6:"
   ]
  },
  {
   "cell_type": "code",
   "execution_count": null,
   "id": "06985c1c-04a3-490e-a1da-69f66a2d20ac",
   "metadata": {},
   "outputs": [],
   "source": [
    "mesh = fem.MeshTri().refined(1)\n",
    "for k in range(5): # пять уровней измельчения\n",
    "    elements = [] # начнём с пустого списка элементов для измельчения\n",
    "\n",
    "    for i in range(mesh.nelements): # mesh.nelements – количество элементов\n",
    "        node_indices = mesh.t[:, i]  # Номера трех вершин треугольника с номером i (массив из 3 чисел)\n",
    "        triangle_nodes = mesh.p[:, node_indices] # массив координат из трёх вершин (массив 2x3)\n",
    "        triangle_nodes_y = triangle_nodes[1, :]  # y-координаты трёх вершин (массив из 3 чисел)\n",
    "        if np.any(triangle_nodes_y == 0.6):    # если хотя бы одна из y-координат равна 0.5\n",
    "            elements.append(i)\n",
    "\n",
    "    mesh = mesh.refined(elements)\n",
    "\n",
    "mesh.draw()"
   ]
  },
  {
   "cell_type": "markdown",
   "id": "b60b228f-d0f4-4eb2-b721-0727bc5523f4",
   "metadata": {},
   "source": [
    "Нужно модифицировать проверку так, чтобы определять пересечение треугольника с прямой y=0.6. У таких треугольников хотя бы одна из вершин находится выше прямой, и хотя бы одна ниже. Изменим наш код, чтобы проверить это условие."
   ]
  },
  {
   "cell_type": "code",
   "execution_count": null,
   "id": "ad6291a4-c248-4fab-89fd-2671f5bec05c",
   "metadata": {},
   "outputs": [],
   "source": [
    "mesh = fem.MeshTri().refined(1)\n",
    "for k in range(5): # пять уровней измельчения\n",
    "    elements = [] # начнём с пустого списка элементов для измельчения\n",
    "\n",
    "    for i in range(mesh.nelements): # mesh.nelements – количество элементов\n",
    "        node_indices = mesh.t[:, i]  # Номера трех вершин треугольника с номером i (массив из 3 чисел)\n",
    "        triangle_nodes = mesh.p[:, node_indices] # массив координат из трёх вершин (массив 2x3)\n",
    "        triangle_nodes_y = triangle_nodes[1, :]  # y-координаты трёх вершин (массив из 3 чисел)\n",
    "        if (np.min(triangle_nodes_y) <= 0.6) and (np.max(triangle_nodes_y) >= 0.6):\n",
    "            elements.append(i)\n",
    "\n",
    "    mesh = mesh.refined(elements)\n",
    "\n",
    "mesh.draw()"
   ]
  }
 ],
 "metadata": {
  "language_info": {
   "name": "python"
  }
 },
 "nbformat": 4,
 "nbformat_minor": 5
}
